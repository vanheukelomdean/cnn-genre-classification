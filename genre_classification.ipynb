{
  "nbformat": 4,
  "nbformat_minor": 0,
  "metadata": {
    "colab": {
      "name": "genre_classification.ipynb",
      "provenance": [],
      "collapsed_sections": []
    },
    "kernelspec": {
      "name": "python3",
      "display_name": "Python 3"
    }
  },
  "cells": [
    {
      "cell_type": "markdown",
      "metadata": {
        "id": "SxUi7wAEL7fI"
      },
      "source": [
        "Import directory, audio, numerical and tensor libraries"
      ]
    },
    {
      "cell_type": "code",
      "metadata": {
        "id": "PN99EyPbDa25"
      },
      "source": [
        "from google.colab import drive\n",
        "import os\n",
        "import time\n",
        "\n",
        "!pip install -q console-progressbar\n",
        "from console_progressbar import ProgressBar\n",
        "\n",
        "import librosa\n",
        "from librosa import display\n",
        "import IPython.display \n",
        "import matplotlib.pyplot as plt\n",
        "\n",
        "import numpy as np\n",
        "import tensorflow as tf\n",
        "from keras.utils import to_categorical\n",
        "from keras.models import Sequential, load_model\n",
        "from keras.layers import BatchNormalization, Conv2D, MaxPooling2D, Flatten, Dense\n",
        "\n",
        "from sklearn import preprocessing"
      ],
      "execution_count": 78,
      "outputs": []
    },
    {
      "cell_type": "markdown",
      "metadata": {
        "id": "wSFC5zNCg2ro"
      },
      "source": [
        "Mount google drive and load audio samples from nested directories (GTZAN dataset)"
      ]
    },
    {
      "cell_type": "code",
      "metadata": {
        "id": "pLZWPGwsCLpW",
        "outputId": "60e13a5c-643f-45c3-adca-dc77398bc6c7",
        "colab": {
          "base_uri": "https://localhost:8080/",
          "height": 33
        }
      },
      "source": [
        "drive_dir = \"/content/drive/\"\n",
        "\n",
        "drive.mount(drive_dir, force_remount=False)"
      ],
      "execution_count": 2,
      "outputs": [
        {
          "output_type": "stream",
          "text": [
            "Mounted at /content/drive/\n"
          ],
          "name": "stdout"
        }
      ]
    },
    {
      "cell_type": "markdown",
      "metadata": {
        "id": "NiG8k2G0Ebzs"
      },
      "source": [
        "Define function to preprocess audio samples into a single colour channel spectogram to apply CNN on"
      ]
    },
    {
      "cell_type": "code",
      "metadata": {
        "id": "Od5jl_qXEbks"
      },
      "source": [
        "def load_data(dataset_path, set_size = 0, split_rate = 0.2):\n",
        "  assert set_size >= 0, 'Set cutoff size must be greater than 0'\n",
        "  assert split_rate >= 0, 'Test-Train split must be greater than 0'\n",
        "\n",
        "  start = time.time()\n",
        "\n",
        "  # Collect genres and audio file paths\n",
        "  GENRES = [genre_dir for genre_dir in os.listdir(gtzan_dir) if os.path.isdir(os.path.join(gtzan_dir, genre_dir))]\n",
        "  ex = []\n",
        "  labels = []\n",
        "  for genre in GENRES:\n",
        "    for track_name in os.listdir(os.path.join(gtzan_dir, genre)):\n",
        "      if os.path.isfile(os.path.join(gtzan_dir, genre, track_name)):\n",
        "        ex.append(os.path.join(gtzan_dir, genre, track_name))\n",
        "        labels.append(os.path.join(gtzan_dir, genre))\n",
        "\n",
        "  if not set_size:\n",
        "    set_size = len(ex)\n",
        "  \n",
        "  ex = ex[:set_size]\n",
        "\n",
        "  # Encode labels to integers\n",
        "  label_encoder = preprocessing.LabelEncoder()\n",
        "  train_labels = np.array(label_encoder.fit_transform(labels))\n",
        "\n",
        "  y = to_categorical(train_labels, num_classes=10)\n",
        "\n",
        "  \"\"\"\n",
        "    for i, sample in enumerate(ex):\n",
        "      a = fft_audio(sample)\n",
        "      np.concatenate(x, a)\n",
        "      print(a.shape, x.shape)\n",
        "      pb.print_progress_bar(int( 100 * i / len(ex))) \n",
        "  \"\"\"\n",
        "  x = np.asarray(list(map(lambda sample: fft_audio(sample), ex)))\n",
        "\n",
        "  split_index = int((1 - split_rate) * x.shape[0])\n",
        "\n",
        "  end = time.time()\n",
        "\n",
        "  print(\"Loaded and transformed %d samples in %.2f seconds\" % (x.shape[0], end - start))\n",
        "\n",
        "  return (x[:split_index], y[:split_index]), (x[split_index:], y[split_index:])\n",
        "\n",
        "def fft_audio (path):\n",
        "  # Returns time series and sampling rate\n",
        "  X, sampling_rate = librosa.load(path)\n",
        "\n",
        "  # display(Audio(x, rate=sampling_rate))\n",
        "\n",
        "  #plt.figure(figsize=(20, 8))\n",
        "  # librosa.display.waveplot(X, sr=sampling_rate)\n",
        "\n",
        "  # Run discret fourier transform on signal\n",
        "  mel_spectrogram = librosa.feature.melspectrogram(X, sr=sampling_rate, hop_length=512,  )\n",
        "\n",
        "  # Exponentiate spectogram to mel scale to account for limited human frequency sensitivity range\n",
        "  mel_spectrogram = librosa.power_to_db(mel_spectrogram, ref=np.max)\n",
        "\n",
        "  #librosa.display.specshow(mel_spectrogram, y_axis='mel', fmax=8000, x_axis='time');\n",
        "\n",
        "  # Add colour channel dimension (of rank 1)\n",
        "  sample = np.expand_dims(mel_spectrogram, axis=2)\n",
        "\n",
        "  return sample[:,:512,:]"
      ],
      "execution_count": 86,
      "outputs": []
    },
    {
      "cell_type": "markdown",
      "metadata": {
        "id": "XgwiA6p-Anz7"
      },
      "source": [
        "Load Gtzan dataset from google drive"
      ]
    },
    {
      "cell_type": "code",
      "metadata": {
        "id": "WLFZd-1emGCf",
        "outputId": "c48b0634-7b2a-4de4-9079-3b9ccb803363",
        "colab": {
          "base_uri": "https://localhost:8080/",
          "height": 33
        }
      },
      "source": [
        "gtzan_dir = drive_dir + \"My Drive/Datasets/gtzan/genres\"\n",
        "\n",
        "(x_train, y_train), (x_test, y_test) = load_data(gtzan_dir, 100)"
      ],
      "execution_count": 106,
      "outputs": [
        {
          "output_type": "stream",
          "text": [
            "Loaded and transformed 100 samples in 72.71 seconds\n"
          ],
          "name": "stdout"
        }
      ]
    },
    {
      "cell_type": "markdown",
      "metadata": {
        "id": "AxCUjxT8joN7"
      },
      "source": [
        "## Define our model\n",
        "\n",
        " - 3 x 3 Convolutional Kernel\n",
        " - 2 x 4 Max Pooling\n",
        " - 3 x 5 Convolutional Kernel\n",
        " - 2 x 4 Max Pooling\n",
        " - 32 Node Fully Connected Layer\n",
        " - 10 Node Fully Connected Layer (output)\n",
        " "
      ]
    },
    {
      "cell_type": "code",
      "metadata": {
        "id": "glsM8tq-jobr"
      },
      "source": [
        "def get_model(input_shape):\n",
        "\n",
        "  model = Sequential()\n",
        "\n",
        "  model.add(BatchNormalization(name='batch-norm' ))\n",
        "\n",
        "  model.add(Conv2D(name=\"conv-1\",\n",
        "                    filters=64,\n",
        "                    padding='same',\n",
        "                    kernel_size=(3, 3),\n",
        "                    activation='relu',\n",
        "                    input_shape=input_shape))\n",
        "  \n",
        "  model.add(MaxPooling2D(name=\"pool-1\",\n",
        "                         pool_size=(2, 4)))\n",
        "\n",
        "  model.add(Conv2D(name=\"conv-2\",\n",
        "                    filters=64,\n",
        "                    padding='same',\n",
        "                    kernel_size=(3, 5),\n",
        "                    activation='relu'))\n",
        "  \n",
        "  model.add(MaxPooling2D(name=\"pool-2\",\n",
        "                         pool_size=(2, 4)))\n",
        "\n",
        "  model.add(Flatten())\n",
        "\n",
        "  model.add(Dense(units=32, \n",
        "                  activation='relu'))\n",
        "\n",
        "  model.add(Dense(units=10, \n",
        "                  activation='softmax'))\n",
        "\n",
        "  model.compile(optimizer= 'sgd',\n",
        "                  loss= 'categorical_crossentropy',\n",
        "                  metrics= ['accuracy']);\n",
        "\n",
        "  return model"
      ],
      "execution_count": 94,
      "outputs": []
    },
    {
      "cell_type": "markdown",
      "metadata": {
        "id": "eqeATGuTPW5s"
      },
      "source": [
        "Training plot function"
      ]
    },
    {
      "cell_type": "code",
      "metadata": {
        "id": "AFINxMUVMzFO"
      },
      "source": [
        "def plot_learning(history):\n",
        "  plt.plot(history.history['accuracy'])\n",
        "  plt.plot(history.history['val_accuracy'])\n",
        "  plt.title('model accuracy')\n",
        "  plt.ylabel('accuracy')\n",
        "  plt.xlabel('epoch')\n",
        "  plt.legend(['train', 'validation'], loc='upper left')\n",
        "  plt.show()\n",
        "\n",
        "  plt.plot(history.history['loss'])\n",
        "  plt.plot(history.history['val_loss'])\n",
        "  plt.title('model loss')\n",
        "  plt.ylabel('loss')\n",
        "  plt.xlabel('epoch')\n",
        "  plt.legend(['train', 'validation'], loc='upper left')\n",
        "  plt.show()"
      ],
      "execution_count": 104,
      "outputs": []
    },
    {
      "cell_type": "code",
      "metadata": {
        "id": "y0xJPpsVrG4P",
        "outputId": "4acdd74a-7b90-4ab3-9d68-794a8b6a7cb2",
        "colab": {
          "base_uri": "https://localhost:8080/",
          "height": 897
        }
      },
      "source": [
        "batch_size = 64\n",
        "val_size = 60\n",
        "\n",
        "input_shape = x_train.shape[1:]\n",
        "\n",
        "model = get_model(input_shape)\n",
        "\n",
        "history = model.fit(x_train[:-val_size],\n",
        "                    y_train[:-val_size],\n",
        "                    batch_size=batch_size,\n",
        "                    epochs=10,\n",
        "                    validation_split= 0.2,\n",
        "                    shuffle=True)\n",
        "\n",
        "plot_learning(history)"
      ],
      "execution_count": 107,
      "outputs": [
        {
          "output_type": "stream",
          "text": [
            "Epoch 1/10\n",
            "1/1 [==============================] - 0s 313ms/step - loss: 2.3388 - accuracy: 0.0000e+00 - val_loss: 0.0000e+00 - val_accuracy: 1.0000\n",
            "Epoch 2/10\n",
            "1/1 [==============================] - 0s 152ms/step - loss: 0.0200 - accuracy: 1.0000 - val_loss: 0.0000e+00 - val_accuracy: 1.0000\n",
            "Epoch 3/10\n",
            "1/1 [==============================] - 0s 154ms/step - loss: 0.0154 - accuracy: 1.0000 - val_loss: 0.0000e+00 - val_accuracy: 1.0000\n",
            "Epoch 4/10\n",
            "1/1 [==============================] - 0s 157ms/step - loss: 0.0125 - accuracy: 1.0000 - val_loss: 0.0000e+00 - val_accuracy: 1.0000\n",
            "Epoch 5/10\n",
            "1/1 [==============================] - 0s 146ms/step - loss: 0.0105 - accuracy: 1.0000 - val_loss: 0.0000e+00 - val_accuracy: 1.0000\n",
            "Epoch 6/10\n",
            "1/1 [==============================] - 0s 148ms/step - loss: 0.0090 - accuracy: 1.0000 - val_loss: 0.0000e+00 - val_accuracy: 1.0000\n",
            "Epoch 7/10\n",
            "1/1 [==============================] - 0s 156ms/step - loss: 0.0078 - accuracy: 1.0000 - val_loss: 0.0000e+00 - val_accuracy: 1.0000\n",
            "Epoch 8/10\n",
            "1/1 [==============================] - 0s 149ms/step - loss: 0.0069 - accuracy: 1.0000 - val_loss: 0.0000e+00 - val_accuracy: 1.0000\n",
            "Epoch 9/10\n",
            "1/1 [==============================] - 0s 143ms/step - loss: 0.0062 - accuracy: 1.0000 - val_loss: 0.0000e+00 - val_accuracy: 1.0000\n",
            "Epoch 10/10\n",
            "1/1 [==============================] - 0s 147ms/step - loss: 0.0056 - accuracy: 1.0000 - val_loss: 0.0000e+00 - val_accuracy: 1.0000\n"
          ],
          "name": "stdout"
        },
        {
          "output_type": "display_data",
          "data": {
            "image/png": "[encoded data removed]",
            "text/plain": [
              "<Figure size 432x288 with 1 Axes>"
            ]
          },
          "metadata": {
            "tags": [],
            "needs_background": "light"
          }
        },
        {
          "output_type": "display_data",
          "data": {
            "image/png": "[encoded data removed]",
            "text/plain": [
              "<Figure size 432x288 with 1 Axes>"
            ]
          },
          "metadata": {
            "tags": [],
            "needs_background": "light"
          }
        }
      ]
    }
  ]
}